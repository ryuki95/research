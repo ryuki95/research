{
 "cells": [
  {
   "cell_type": "code",
   "execution_count": null,
   "metadata": {},
   "outputs": [],
   "source": [
    "import numpy as np\n",
    "import matplotlib.pyplot as plt"
   ]
  },
  {
   "cell_type": "code",
   "execution_count": null,
   "metadata": {},
   "outputs": [],
   "source": [
    "# データの読み込み\n",
    "file_path = 'fbm1024_h80.npy'\n",
    "data = np.load(file_path, allow_pickle=True).item()"
   ]
  },
  {
   "cell_type": "code",
   "execution_count": null,
   "metadata": {},
   "outputs": [],
   "source": [
    "\n",
    "\n",
    "\n",
    "# タイムシリーズと分位数を取得\n",
    "time_series = data['ts']  # タイムシリーズ（50サンプル）\n",
    "future_quantiles = data['quantiles']  # 未来の分位数（101分位 × 1024ステップ）\n",
    "\n",
    "# サンプルの選択\n",
    "sample_index = 0  # 表示するタイムシリーズのインデックス\n",
    "selected_ts = time_series[sample_index]\n",
    "selected_quantiles = future_quantiles[sample_index]\n",
    "\n",
    "# 可視化\n",
    "plt.figure(figsize=(12, 6))\n",
    "\n",
    "# タイムシリーズ\n",
    "plt.plot(range(1024), selected_ts, label='Historical Time Series', color='blue')\n",
    "\n",
    "# 未来の分位数\n",
    "for q in [0, 25, 50, 75, 100]:  # 一部の分位数を表示 (0%, 25%, 50%, 75%, 100%)\n",
    "    plt.plot(range(1024, 2048), selected_quantiles[q], label=f'Quantile {q}%', alpha=0.6)\n",
    "\n",
    "# グラフ設定\n",
    "plt.title('Fractal Brownian Motion and Future Quantiles')\n",
    "plt.xlabel('Time Steps')\n",
    "plt.ylabel('Value')\n",
    "plt.legend()\n",
    "plt.grid()\n",
    "plt.show()\n"
   ]
  }
 ],
 "metadata": {
  "language_info": {
   "name": "python"
  }
 },
 "nbformat": 4,
 "nbformat_minor": 2
}
